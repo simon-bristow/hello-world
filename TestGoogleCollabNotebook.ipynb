{
  "nbformat": 4,
  "nbformat_minor": 0,
  "metadata": {
    "colab": {
      "name": "TestGoogleCollabNotebook.ipynb",
      "provenance": [],
      "authorship_tag": "ABX9TyNS5w5hWWwV702sIJ0PewaQ",
      "include_colab_link": true
    },
    "kernelspec": {
      "name": "python3",
      "display_name": "Python 3"
    },
    "language_info": {
      "name": "python"
    }
  },
  "cells": [
    {
      "cell_type": "markdown",
      "metadata": {
        "id": "view-in-github",
        "colab_type": "text"
      },
      "source": [
        "<a href=\"https://colab.research.google.com/github/simon-bristow/hello-world/blob/main/TestGoogleCollabNotebook.ipynb\" target=\"_parent\"><img src=\"https://colab.research.google.com/assets/colab-badge.svg\" alt=\"Open In Colab\"/></a>"
      ]
    },
    {
      "cell_type": "code",
      "metadata": {
        "id": "8P9N1AZCPmZU",
        "colab": {
          "base_uri": "https://localhost:8080/"
        },
        "outputId": "83d866c5-a247-4c21-a8a3-4de73bac50a8"
      },
      "source": [
        "1+2"
      ],
      "execution_count": null,
      "outputs": [
        {
          "output_type": "execute_result",
          "data": {
            "text/plain": [
              "3"
            ]
          },
          "metadata": {},
          "execution_count": 1
        }
      ]
    },
    {
      "cell_type": "code",
      "metadata": {
        "id": "E8M0D6rOPomS",
        "colab": {
          "base_uri": "https://localhost:8080/"
        },
        "outputId": "8d3fa0c9-f34e-4125-af15-c579c23f1922"
      },
      "source": [
        "3-3"
      ],
      "execution_count": null,
      "outputs": [
        {
          "output_type": "execute_result",
          "data": {
            "text/plain": [
              "0"
            ]
          },
          "metadata": {},
          "execution_count": 2
        }
      ]
    },
    {
      "cell_type": "code",
      "metadata": {
        "id": "7GuUme8TPtgU",
        "colab": {
          "base_uri": "https://localhost:8080/"
        },
        "outputId": "fb5ae180-4ddb-4da7-9c58-da83ad6d2421"
      },
      "source": [
        "print(1+1)\n"
      ],
      "execution_count": 4,
      "outputs": [
        {
          "output_type": "stream",
          "name": "stdout",
          "text": [
            "2\n"
          ]
        }
      ]
    },
    {
      "cell_type": "code",
      "metadata": {
        "id": "zN5A4sdwP5aC"
      },
      "source": [
        ""
      ],
      "execution_count": null,
      "outputs": []
    }
  ]
}